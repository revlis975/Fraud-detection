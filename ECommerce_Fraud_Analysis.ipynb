{
 "cells": [
  {
   "cell_type": "code",
   "execution_count": 1,
   "metadata": {
    "colab": {},
    "colab_type": "code",
    "id": "p7awLwi1AMK1"
   },
   "outputs": [],
   "source": [
    "import numpy as np\n",
    "import pandas as pd\n",
    "import seaborn as sns\n",
    "import matplotlib.pyplot as plt\n",
    "import math"
   ]
  },
  {
   "cell_type": "markdown",
   "metadata": {
    "colab_type": "text",
    "id": "TJ4Ed8HrAMK_"
   },
   "source": [
    "# Data Description"
   ]
  },
  {
   "cell_type": "code",
   "execution_count": 34,
   "metadata": {
    "colab": {
     "base_uri": "https://localhost:8080/",
     "height": 407
    },
    "colab_type": "code",
    "executionInfo": {
     "elapsed": 1041,
     "status": "error",
     "timestamp": 1583668634114,
     "user": {
      "displayName": "Debanjan Chowdhury",
      "photoUrl": "https://lh3.googleusercontent.com/a-/AOh14GioJiTZgQoSpi4LK_VIxaQqeTQmvdw9sVTnaz4B=s64",
      "userId": "08397041590304312062"
     },
     "user_tz": -330
    },
    "id": "8yS4ZLaCAMLA",
    "outputId": "d348c9a7-c5c8-45aa-b379-ea4fb5c40311"
   },
   "outputs": [],
   "source": [
    "cust_data = pd.read_csv('cust.csv')\n",
    "cust_transaction_data = pd.read_csv('cust_transaction_details.csv')"
   ]
  },
  {
   "cell_type": "code",
   "execution_count": 4,
   "metadata": {
    "colab": {},
    "colab_type": "code",
    "id": "ZZrUPA2iAMLE",
    "outputId": "b5a5f12d-229a-42ed-fef2-7d575bad364b"
   },
   "outputs": [
    {
     "name": "stdout",
     "output_type": "stream",
     "text": [
      "Customer_DF description\n",
      "\n",
      "Unnamed: 0                 int64\n",
      "customerEmail             object\n",
      "customerPhone             object\n",
      "customerDevice            object\n",
      "customerIPAddress         object\n",
      "customerBillingAddress    object\n",
      "No_Transactions            int64\n",
      "No_Orders                  int64\n",
      "No_Payments                int64\n",
      "Fraud                       bool\n",
      "dtype: object\n",
      "\n",
      "\n",
      "\n",
      "cust_transaction_details desciption\n",
      "\n",
      "Unnamed: 0                           int64\n",
      "customerEmail                       object\n",
      "transactionId                       object\n",
      "orderId                             object\n",
      "paymentMethodId                     object\n",
      "paymentMethodRegistrationFailure     int64\n",
      "paymentMethodType                   object\n",
      "paymentMethodProvider               object\n",
      "transactionAmount                    int64\n",
      "transactionFailed                    int64\n",
      "orderState                          object\n",
      "dtype: object\n"
     ]
    }
   ],
   "source": [
    "print(\"Customer_DF description\\n\")\n",
    "print(cust_data.dtypes)\n",
    "print(\"\\n\\n\")\n",
    "print(\"cust_transaction_details desciption\\n\")\n",
    "print(cust_transaction_data.dtypes)"
   ]
  },
  {
   "cell_type": "markdown",
   "metadata": {
    "colab_type": "text",
    "id": "Ns5cUt4oAMLN"
   },
   "source": [
    "# Data Wrangling"
   ]
  },
  {
   "cell_type": "code",
   "execution_count": 5,
   "metadata": {
    "colab": {},
    "colab_type": "code",
    "id": "ddwXDYfSAMLO",
    "outputId": "4ab840a2-be33-4b2f-b4d6-9c3627adb47b"
   },
   "outputs": [
    {
     "data": {
      "text/html": [
       "<div>\n",
       "<style scoped>\n",
       "    .dataframe tbody tr th:only-of-type {\n",
       "        vertical-align: middle;\n",
       "    }\n",
       "\n",
       "    .dataframe tbody tr th {\n",
       "        vertical-align: top;\n",
       "    }\n",
       "\n",
       "    .dataframe thead th {\n",
       "        text-align: right;\n",
       "    }\n",
       "</style>\n",
       "<table border=\"1\" class=\"dataframe\">\n",
       "  <thead>\n",
       "    <tr style=\"text-align: right;\">\n",
       "      <th></th>\n",
       "      <th>Unnamed: 0</th>\n",
       "      <th>customerEmail</th>\n",
       "      <th>customerPhone</th>\n",
       "      <th>customerDevice</th>\n",
       "      <th>customerIPAddress</th>\n",
       "      <th>customerBillingAddress</th>\n",
       "      <th>No_Orders</th>\n",
       "      <th>No_Payments</th>\n",
       "      <th>Fraud</th>\n",
       "    </tr>\n",
       "  </thead>\n",
       "  <tbody>\n",
       "    <tr>\n",
       "      <th>0</th>\n",
       "      <td>0</td>\n",
       "      <td>josephhoward@yahoo.com</td>\n",
       "      <td>400-108-5415</td>\n",
       "      <td>yyeiaxpltf82440jnb3v</td>\n",
       "      <td>8.129.104.40</td>\n",
       "      <td>5493 Jones Islands\\nBrownside, CA 51896</td>\n",
       "      <td>2</td>\n",
       "      <td>1</td>\n",
       "      <td>False</td>\n",
       "    </tr>\n",
       "    <tr>\n",
       "      <th>1</th>\n",
       "      <td>1</td>\n",
       "      <td>evansjeffery@yahoo.com</td>\n",
       "      <td>1-788-091-7546</td>\n",
       "      <td>r0jpm7xaeqqa3kr6mzum</td>\n",
       "      <td>219.173.211.202</td>\n",
       "      <td>356 Elizabeth Inlet Suite 120\\nPort Joshuabury...</td>\n",
       "      <td>3</td>\n",
       "      <td>7</td>\n",
       "      <td>True</td>\n",
       "    </tr>\n",
       "    <tr>\n",
       "      <th>2</th>\n",
       "      <td>2</td>\n",
       "      <td>andersonwilliam@yahoo.com</td>\n",
       "      <td>024.420.0375</td>\n",
       "      <td>4m7h5ipl1shyavt6vv2r</td>\n",
       "      <td>67b7:3db8:67e0:3bea:b9d0:90c1:2b60:b9f0</td>\n",
       "      <td>8478 Sean Ridges Apt. 441\\nDavisberg, PR 72250</td>\n",
       "      <td>3</td>\n",
       "      <td>2</td>\n",
       "      <td>False</td>\n",
       "    </tr>\n",
       "    <tr>\n",
       "      <th>3</th>\n",
       "      <td>3</td>\n",
       "      <td>rubenjuarez@yahoo.com</td>\n",
       "      <td>670.664.8168x94985</td>\n",
       "      <td>slovx60t0i558may4ks0</td>\n",
       "      <td>95de:8565:5a66:792c:26e0:6cfb:7d87:11af</td>\n",
       "      <td>7769 Elizabeth Bridge Apt. 343\\nNortonstad, FM...</td>\n",
       "      <td>3</td>\n",
       "      <td>1</td>\n",
       "      <td>False</td>\n",
       "    </tr>\n",
       "    <tr>\n",
       "      <th>4</th>\n",
       "      <td>4</td>\n",
       "      <td>uchen@malone.com</td>\n",
       "      <td>1-981-877-0870</td>\n",
       "      <td>j0pd24k5h8dl2fqu0cz4</td>\n",
       "      <td>196.89.235.192</td>\n",
       "      <td>148 Russell Lodge Apt. 445\\nPort Jenniferside,...</td>\n",
       "      <td>7</td>\n",
       "      <td>6</td>\n",
       "      <td>True</td>\n",
       "    </tr>\n",
       "    <tr>\n",
       "      <th>5</th>\n",
       "      <td>5</td>\n",
       "      <td>robinsoncynthia@dunn.com</td>\n",
       "      <td>+65(5)8997489788</td>\n",
       "      <td>hbww39m1wenbq4ymjhsx</td>\n",
       "      <td>43.166.163.164</td>\n",
       "      <td>65233 Hutchinson Mountains\\nMartinezside, OR 7...</td>\n",
       "      <td>1</td>\n",
       "      <td>2</td>\n",
       "      <td>True</td>\n",
       "    </tr>\n",
       "    <tr>\n",
       "      <th>6</th>\n",
       "      <td>6</td>\n",
       "      <td>samuel15@saunders-rhodes.com</td>\n",
       "      <td>5045239487</td>\n",
       "      <td>up7afvce5v0omniqlevq</td>\n",
       "      <td>33.67.35.30</td>\n",
       "      <td>3960 Emily Fort\\nStaceytown, AR 21817-3325</td>\n",
       "      <td>1</td>\n",
       "      <td>2</td>\n",
       "      <td>True</td>\n",
       "    </tr>\n",
       "    <tr>\n",
       "      <th>7</th>\n",
       "      <td>7</td>\n",
       "      <td>johnlowery@gmail.com</td>\n",
       "      <td>044-642-9860</td>\n",
       "      <td>rjb0adai34izqvys4938</td>\n",
       "      <td>212.144.68.190</td>\n",
       "      <td>484 Pamela Pass\\nLake Jessicaview, WI 12942-9074</td>\n",
       "      <td>5</td>\n",
       "      <td>2</td>\n",
       "      <td>True</td>\n",
       "    </tr>\n",
       "    <tr>\n",
       "      <th>8</th>\n",
       "      <td>8</td>\n",
       "      <td>jameslandry@rodriguez.com</td>\n",
       "      <td>1-885-168-1310x338</td>\n",
       "      <td>yz4l2bgbvzra5eb5qcan</td>\n",
       "      <td>c899:ff67:6864:4365:def3:3023:655f:5181</td>\n",
       "      <td>USNS Price\\nFPO AE 14661</td>\n",
       "      <td>2</td>\n",
       "      <td>1</td>\n",
       "      <td>False</td>\n",
       "    </tr>\n",
       "    <tr>\n",
       "      <th>9</th>\n",
       "      <td>9</td>\n",
       "      <td>ubranch@rivera-parker.info</td>\n",
       "      <td>(772)964-8162x6310</td>\n",
       "      <td>6mpx027neyz6sh04n3ue</td>\n",
       "      <td>86.16.65.228</td>\n",
       "      <td>6974 Robertson Common Apt. 902\\nPort Juanside,...</td>\n",
       "      <td>0</td>\n",
       "      <td>1</td>\n",
       "      <td>True</td>\n",
       "    </tr>\n",
       "  </tbody>\n",
       "</table>\n",
       "</div>"
      ],
      "text/plain": [
       "   Unnamed: 0                 customerEmail       customerPhone  \\\n",
       "0           0        josephhoward@yahoo.com        400-108-5415   \n",
       "1           1        evansjeffery@yahoo.com      1-788-091-7546   \n",
       "2           2     andersonwilliam@yahoo.com        024.420.0375   \n",
       "3           3         rubenjuarez@yahoo.com  670.664.8168x94985   \n",
       "4           4              uchen@malone.com      1-981-877-0870   \n",
       "5           5      robinsoncynthia@dunn.com    +65(5)8997489788   \n",
       "6           6  samuel15@saunders-rhodes.com          5045239487   \n",
       "7           7          johnlowery@gmail.com        044-642-9860   \n",
       "8           8     jameslandry@rodriguez.com  1-885-168-1310x338   \n",
       "9           9    ubranch@rivera-parker.info  (772)964-8162x6310   \n",
       "\n",
       "         customerDevice                        customerIPAddress  \\\n",
       "0  yyeiaxpltf82440jnb3v                             8.129.104.40   \n",
       "1  r0jpm7xaeqqa3kr6mzum                          219.173.211.202   \n",
       "2  4m7h5ipl1shyavt6vv2r  67b7:3db8:67e0:3bea:b9d0:90c1:2b60:b9f0   \n",
       "3  slovx60t0i558may4ks0  95de:8565:5a66:792c:26e0:6cfb:7d87:11af   \n",
       "4  j0pd24k5h8dl2fqu0cz4                           196.89.235.192   \n",
       "5  hbww39m1wenbq4ymjhsx                           43.166.163.164   \n",
       "6  up7afvce5v0omniqlevq                              33.67.35.30   \n",
       "7  rjb0adai34izqvys4938                           212.144.68.190   \n",
       "8  yz4l2bgbvzra5eb5qcan  c899:ff67:6864:4365:def3:3023:655f:5181   \n",
       "9  6mpx027neyz6sh04n3ue                             86.16.65.228   \n",
       "\n",
       "                              customerBillingAddress  No_Orders  No_Payments  \\\n",
       "0            5493 Jones Islands\\nBrownside, CA 51896          2            1   \n",
       "1  356 Elizabeth Inlet Suite 120\\nPort Joshuabury...          3            7   \n",
       "2     8478 Sean Ridges Apt. 441\\nDavisberg, PR 72250          3            2   \n",
       "3  7769 Elizabeth Bridge Apt. 343\\nNortonstad, FM...          3            1   \n",
       "4  148 Russell Lodge Apt. 445\\nPort Jenniferside,...          7            6   \n",
       "5  65233 Hutchinson Mountains\\nMartinezside, OR 7...          1            2   \n",
       "6         3960 Emily Fort\\nStaceytown, AR 21817-3325          1            2   \n",
       "7   484 Pamela Pass\\nLake Jessicaview, WI 12942-9074          5            2   \n",
       "8                           USNS Price\\nFPO AE 14661          2            1   \n",
       "9  6974 Robertson Common Apt. 902\\nPort Juanside,...          0            1   \n",
       "\n",
       "   Fraud  \n",
       "0  False  \n",
       "1   True  \n",
       "2  False  \n",
       "3  False  \n",
       "4   True  \n",
       "5   True  \n",
       "6   True  \n",
       "7   True  \n",
       "8  False  \n",
       "9   True  "
      ]
     },
     "execution_count": 5,
     "metadata": {},
     "output_type": "execute_result"
    }
   ],
   "source": [
    "cust_df = pd.DataFrame(data = cust_data)\n",
    "cust_df.drop(['No_Transactions'],axis = 1, inplace = True)\n",
    "cust_df.head(10)"
   ]
  },
  {
   "cell_type": "code",
   "execution_count": 6,
   "metadata": {
    "colab": {},
    "colab_type": "code",
    "id": "WQlXvdNFAMLS",
    "outputId": "8df77e20-b47b-47c8-950c-acc4fa50f4d7"
   },
   "outputs": [
    {
     "data": {
      "text/html": [
       "<div>\n",
       "<style scoped>\n",
       "    .dataframe tbody tr th:only-of-type {\n",
       "        vertical-align: middle;\n",
       "    }\n",
       "\n",
       "    .dataframe tbody tr th {\n",
       "        vertical-align: top;\n",
       "    }\n",
       "\n",
       "    .dataframe thead th {\n",
       "        text-align: right;\n",
       "    }\n",
       "</style>\n",
       "<table border=\"1\" class=\"dataframe\">\n",
       "  <thead>\n",
       "    <tr style=\"text-align: right;\">\n",
       "      <th></th>\n",
       "      <th>No_Orders</th>\n",
       "      <th>No_Payments</th>\n",
       "      <th>Fraud</th>\n",
       "      <th>card</th>\n",
       "      <th>bitcoin</th>\n",
       "      <th>apple_pay</th>\n",
       "      <th>orderState_pending</th>\n",
       "      <th>orderState_failed</th>\n",
       "      <th>paymentMethodRegistrationFailure_1</th>\n",
       "      <th>transactionFailed_1</th>\n",
       "    </tr>\n",
       "  </thead>\n",
       "  <tbody>\n",
       "    <tr>\n",
       "      <th>0</th>\n",
       "      <td>2</td>\n",
       "      <td>1</td>\n",
       "      <td>False</td>\n",
       "      <td>2</td>\n",
       "      <td>0</td>\n",
       "      <td>0</td>\n",
       "      <td>1</td>\n",
       "      <td>0</td>\n",
       "      <td>2</td>\n",
       "      <td>0</td>\n",
       "    </tr>\n",
       "    <tr>\n",
       "      <th>1</th>\n",
       "      <td>3</td>\n",
       "      <td>7</td>\n",
       "      <td>True</td>\n",
       "      <td>0</td>\n",
       "      <td>3</td>\n",
       "      <td>0</td>\n",
       "      <td>0</td>\n",
       "      <td>0</td>\n",
       "      <td>1</td>\n",
       "      <td>1</td>\n",
       "    </tr>\n",
       "    <tr>\n",
       "      <th>2</th>\n",
       "      <td>3</td>\n",
       "      <td>2</td>\n",
       "      <td>False</td>\n",
       "      <td>5</td>\n",
       "      <td>0</td>\n",
       "      <td>0</td>\n",
       "      <td>0</td>\n",
       "      <td>1</td>\n",
       "      <td>0</td>\n",
       "      <td>2</td>\n",
       "    </tr>\n",
       "    <tr>\n",
       "      <th>3</th>\n",
       "      <td>3</td>\n",
       "      <td>1</td>\n",
       "      <td>False</td>\n",
       "      <td>3</td>\n",
       "      <td>0</td>\n",
       "      <td>0</td>\n",
       "      <td>0</td>\n",
       "      <td>0</td>\n",
       "      <td>0</td>\n",
       "      <td>0</td>\n",
       "    </tr>\n",
       "    <tr>\n",
       "      <th>4</th>\n",
       "      <td>7</td>\n",
       "      <td>6</td>\n",
       "      <td>True</td>\n",
       "      <td>4</td>\n",
       "      <td>0</td>\n",
       "      <td>3</td>\n",
       "      <td>0</td>\n",
       "      <td>1</td>\n",
       "      <td>0</td>\n",
       "      <td>2</td>\n",
       "    </tr>\n",
       "  </tbody>\n",
       "</table>\n",
       "</div>"
      ],
      "text/plain": [
       "   No_Orders  No_Payments  Fraud  card  bitcoin  apple_pay  \\\n",
       "0          2            1  False     2        0          0   \n",
       "1          3            7   True     0        3          0   \n",
       "2          3            2  False     5        0          0   \n",
       "3          3            1  False     3        0          0   \n",
       "4          7            6   True     4        0          3   \n",
       "\n",
       "   orderState_pending  orderState_failed  paymentMethodRegistrationFailure_1  \\\n",
       "0                   1                  0                                   2   \n",
       "1                   0                  0                                   1   \n",
       "2                   0                  1                                   0   \n",
       "3                   0                  0                                   0   \n",
       "4                   0                  1                                   0   \n",
       "\n",
       "   transactionFailed_1  \n",
       "0                    0  \n",
       "1                    1  \n",
       "2                    2  \n",
       "3                    0  \n",
       "4                    2  "
      ]
     },
     "execution_count": 6,
     "metadata": {},
     "output_type": "execute_result"
    }
   ],
   "source": [
    "cust_df['card'] = 0\n",
    "cust_df['bitcoin'] = 0\n",
    "cust_df['apple_pay'] = 0\n",
    "#cust_df['paypal'] = 0\n",
    "\n",
    "cust_df['orderState_pending'] = 0\n",
    "#cust_df['orderState_fulfilled'] = 0\n",
    "cust_df['orderState_failed'] = 0\n",
    "\n",
    "#cust_df['paymentMethodRegistrationFailure_0'] = 0\n",
    "cust_df['paymentMethodRegistrationFailure_1'] = 0\n",
    "\n",
    "#cust_df['transactionFailed_0'] = 0\n",
    "cust_df['transactionFailed_1'] = 0\n",
    "\n",
    "\n",
    "\n",
    "\n",
    "z = []\n",
    "for i in cust_transaction_data['customerEmail'].unique():\n",
    "    z.append(i)\n",
    "    z.append(cust_transaction_data[cust_transaction_data['customerEmail']==i]['paymentMethodType'].values)\n",
    "    \n",
    "card = 0   \n",
    "bitcoin = 0\n",
    "apple_pay = 0\n",
    "paypal = 0\n",
    " \n",
    "lenz = len(z)\n",
    "\n",
    "for i in range(lenz):\n",
    "    if i%2 != 0:\n",
    "        for j in z[i]:\n",
    "            if j == 'card':\n",
    "                card += 1\n",
    "            elif j == 'bitcoin':\n",
    "                bitcoin +=1\n",
    "            elif j == 'apple pay':\n",
    "                apple_pay += 1\n",
    "            elif j == 'paypal':\n",
    "                paypal += 1\n",
    "        cust_email = z[i-1]\n",
    "        cust_df.loc[cust_df['customerEmail'] == cust_email, 'card'] = card\n",
    "        cust_df.loc[cust_df['customerEmail'] == cust_email, 'bitcoin'] = bitcoin\n",
    "        cust_df.loc[cust_df['customerEmail'] == cust_email, 'apple_pay']= apple_pay\n",
    "  #      cust_df.loc[cust_df['customerEmail'] == cust_email, 'paypal'] = paypal\n",
    "        card = 0\n",
    "        bitcoin = 0\n",
    "        apple_pay = 0\n",
    "        paypal = 0\n",
    "\n",
    "z = []\n",
    "for i in cust_transaction_data['customerEmail'].unique():\n",
    "    z.append(i)\n",
    "    z.append(cust_transaction_data[cust_transaction_data['customerEmail']==i]['orderState'].values)\n",
    "    \n",
    "               \n",
    "pending = 0\n",
    "fulfilled = 0\n",
    "failed = 0\n",
    "\n",
    "lenz = len(z)\n",
    "\n",
    "for i in range(lenz):\n",
    "    if i%2 != 0:\n",
    "        for j in z[i]:\n",
    "            if j == 'pending':\n",
    "                pending += 1\n",
    "            elif j == 'fulfilled':\n",
    "                fulfilled += 1\n",
    "            elif j == 'failed':\n",
    "                failed += 1\n",
    "        cust_email = z[i-1]\n",
    "        cust_df.loc[cust_df['customerEmail'] == cust_email, 'orderState_pending'] = pending\n",
    " #       cust_df.loc[cust_df['customerEmail'] == cust_email, 'orderState_fulfilled'] = fulfilled\n",
    "        cust_df.loc[cust_df['customerEmail'] == cust_email, 'orderState_failed']= failed\n",
    "        pending = 0\n",
    "        fulfilled = 0\n",
    "        failed = 0\n",
    "\n",
    "z = []\n",
    "for i in cust_transaction_data['customerEmail'].unique():\n",
    "    z.append(i)\n",
    "    z.append(cust_transaction_data[cust_transaction_data['customerEmail']==i]['paymentMethodRegistrationFailure'].values)\n",
    "        \n",
    "        \n",
    "paymentmethodregistrationfailure0 = 0\n",
    "paymentmethodregistrationfailure1 = 0\n",
    "\n",
    "lenz = len(z)\n",
    "\n",
    "for i in range(lenz):\n",
    "    if i%2 != 0:\n",
    "        for j in z[i]:\n",
    "            if j == 0:\n",
    "                paymentmethodregistrationfailure0 += 1\n",
    "            elif j == 1:\n",
    "                paymentmethodregistrationfailure1 += 1\n",
    "        cust_email = z[i-1]\n",
    "  #      cust_df.loc[cust_df['customerEmail'] == cust_email, 'paymentMethodRegistrationFailure_0'] = paymentmethodregistrationfailure0\n",
    "        cust_df.loc[cust_df['customerEmail'] == cust_email, 'paymentMethodRegistrationFailure_1'] = paymentmethodregistrationfailure1\n",
    "        paymentmethodregistrationfailure0 = 0\n",
    "        paymentmethodregistrationfailure1 = 0\n",
    "\n",
    "        \n",
    "z = []\n",
    "for i in cust_transaction_data['customerEmail'].unique():\n",
    "    z.append(i)\n",
    "    z.append(cust_transaction_data[cust_transaction_data['customerEmail']==i]['transactionFailed'].values)\n",
    "        \n",
    "        \n",
    "transactionfailed0 = 0\n",
    "transactionfailed1 = 0\n",
    "\n",
    "lenz = len(z)\n",
    "\n",
    "for i in range(lenz):\n",
    "    if i%2 != 0:\n",
    "        for j in z[i]:\n",
    "            if j == 0:\n",
    "                transactionfailed0 += 1\n",
    "            elif j == 1:\n",
    "                transactionfailed1 += 1\n",
    "        cust_email = z[i-1]\n",
    "   #     cust_df.loc[cust_df['customerEmail'] == cust_email, 'transactionFailed_0'] = transactionfailed0\n",
    "        cust_df.loc[cust_df['customerEmail'] == cust_email, 'transactionFailed_1'] = transactionfailed1\n",
    "        transactionfailed0 = 0\n",
    "        transactionfailed1 = 0\n",
    "\n",
    "cust_df.drop(['Unnamed: 0','customerEmail','customerPhone','customerDevice','customerIPAddress','customerBillingAddress'],axis = 1, inplace = True)\n",
    "cust_df.head()\n"
   ]
  },
  {
   "cell_type": "markdown",
   "metadata": {
    "colab_type": "text",
    "id": "cmWL3DY3AMLX"
   },
   "source": [
    "# Data Visualisation"
   ]
  },
  {
   "cell_type": "code",
   "execution_count": 7,
   "metadata": {
    "colab": {},
    "colab_type": "code",
    "id": "DnWaeuA5AMLb",
    "outputId": "c88c5433-5f95-47a8-fb77-c42d867f27a2"
   },
   "outputs": [
    {
     "data": {
      "image/png": "[encoded data removed]",
      "text/plain": [
       "<Figure size 432x288 with 1 Axes>"
      ]
     },
     "metadata": {
      "needs_background": "light"
     },
     "output_type": "display_data"
    }
   ],
   "source": [
    "sns.countplot(x = \"Fraud\", data = cust_df)\n",
    "plt.show()"
   ]
  },
  {
   "cell_type": "code",
   "execution_count": 8,
   "metadata": {
    "colab": {},
    "colab_type": "code",
    "id": "z1ncFdCEAMLf",
    "outputId": "bcab096f-53ac-4982-c1c7-015600106ad9"
   },
   "outputs": [
    {
     "data": {
      "image/png": "[encoded data removed]",
      "text/plain": [
       "<Figure size 422.125x360 with 1 Axes>"
      ]
     },
     "metadata": {
      "needs_background": "light"
     },
     "output_type": "display_data"
    }
   ],
   "source": [
    "sns.catplot(x=\"orderState_pending\", y=\"transactionFailed_1\", hue = \"Fraud\",kind=\"bar\", data=cust_df);\n",
    "plt.show()"
   ]
  },
  {
   "cell_type": "code",
   "execution_count": 9,
   "metadata": {
    "colab": {},
    "colab_type": "code",
    "id": "wwg1CXvwAMLj",
    "outputId": "9e19af70-9c2c-47d3-916f-40a25c1dd82f"
   },
   "outputs": [
    {
     "data": {
      "image/png": "[encoded data removed]",
      "text/plain": [
       "<Figure size 432x288 with 1 Axes>"
      ]
     },
     "metadata": {
      "needs_background": "light"
     },
     "output_type": "display_data"
    }
   ],
   "source": [
    "sns.countplot(x = \"transactionFailed_1\",  hue = \"Fraud\", data = cust_df)\n",
    "plt.show()"
   ]
  },
  {
   "cell_type": "code",
   "execution_count": 10,
   "metadata": {
    "colab": {},
    "colab_type": "code",
    "id": "_GEhrYn8AMLo",
    "outputId": "0f0b04c2-96e3-4f0b-b582-042a07d6666b"
   },
   "outputs": [
    {
     "data": {
      "image/png": "[encoded data removed]",
      "text/plain": [
       "<Figure size 422.125x360 with 1 Axes>"
      ]
     },
     "metadata": {
      "needs_background": "light"
     },
     "output_type": "display_data"
    }
   ],
   "source": [
    "sns.catplot(x=\"bitcoin\", y=\"transactionFailed_1\", hue = \"Fraud\",kind=\"bar\", data=cust_df);\n",
    "plt.show()"
   ]
  },
  {
   "cell_type": "code",
   "execution_count": 11,
   "metadata": {
    "colab": {},
    "colab_type": "code",
    "id": "-FiAVHmBAMLx",
    "outputId": "b45184f1-b1fc-4b3a-ed86-656ab781cbfe"
   },
   "outputs": [
    {
     "data": {
      "image/png": "[encoded data removed]",
      "text/plain": [
       "<Figure size 422.125x360 with 1 Axes>"
      ]
     },
     "metadata": {
      "needs_background": "light"
     },
     "output_type": "display_data"
    }
   ],
   "source": [
    "sns.catplot(x=\"card\", y=\"transactionFailed_1\", hue = \"Fraud\",kind=\"bar\", data=cust_df);\n",
    "plt.show()"
   ]
  },
  {
   "cell_type": "code",
   "execution_count": 12,
   "metadata": {
    "colab": {},
    "colab_type": "code",
    "id": "aJK4-pbPAML1",
    "outputId": "8082f26b-b6e0-4856-b6ee-9881b944d15c"
   },
   "outputs": [
    {
     "data": {
      "image/png": "[encoded data removed]",
      "text/plain": [
       "<Figure size 422.125x360 with 1 Axes>"
      ]
     },
     "metadata": {
      "needs_background": "light"
     },
     "output_type": "display_data"
    }
   ],
   "source": [
    "sns.catplot(x=\"apple_pay\", y=\"transactionFailed_1\", hue = \"Fraud\",kind=\"bar\", data=cust_df);\n",
    "plt.show()"
   ]
  },
  {
   "cell_type": "code",
   "execution_count": 13,
   "metadata": {
    "colab": {},
    "colab_type": "code",
    "id": "vNaWFkC1AML6",
    "outputId": "db72a424-dc14-4419-c692-9653ffba1f46"
   },
   "outputs": [
    {
     "data": {
      "image/png": "[encoded data removed]",
      "text/plain": [
       "<Figure size 432x288 with 1 Axes>"
      ]
     },
     "metadata": {
      "needs_background": "light"
     },
     "output_type": "display_data"
    }
   ],
   "source": [
    "sns.countplot(x = \"paymentMethodRegistrationFailure_1\", hue = \"Fraud\", data = cust_df)\n",
    "plt.show()"
   ]
  },
  {
   "cell_type": "code",
   "execution_count": 14,
   "metadata": {
    "colab": {},
    "colab_type": "code",
    "id": "K5irnIxGAML9",
    "outputId": "f6ad54bb-3fe0-45f7-82fa-6d0fee3ccd08"
   },
   "outputs": [
    {
     "data": {
      "image/png": "[encoded data removed]",
      "text/plain": [
       "<Figure size 422.125x360 with 1 Axes>"
      ]
     },
     "metadata": {
      "needs_background": "light"
     },
     "output_type": "display_data"
    }
   ],
   "source": [
    "sns.catplot(x=\"orderState_failed\", y=\"paymentMethodRegistrationFailure_1\", hue = \"Fraud\",kind=\"bar\", data=cust_df);\n",
    "plt.show()"
   ]
  },
  {
   "cell_type": "code",
   "execution_count": 15,
   "metadata": {
    "colab": {},
    "colab_type": "code",
    "id": "9ARUZf7vAMMA",
    "outputId": "c07b1052-028c-49ca-c3db-830e9cd10a46"
   },
   "outputs": [
    {
     "data": {
      "image/png": "[encoded data removed]",
      "text/plain": [
       "<Figure size 422.125x360 with 1 Axes>"
      ]
     },
     "metadata": {
      "needs_background": "light"
     },
     "output_type": "display_data"
    }
   ],
   "source": [
    "sns.catplot(x=\"No_Payments\", y=\"transactionFailed_1\", hue = \"Fraud\",kind=\"bar\", data=cust_df);\n",
    "plt.show()"
   ]
  },
  {
   "cell_type": "code",
   "execution_count": 16,
   "metadata": {
    "colab": {},
    "colab_type": "code",
    "id": "qAvJJseHAMME",
    "outputId": "07b35a11-1e27-41ba-890b-d68ab9017980"
   },
   "outputs": [
    {
     "data": {
      "image/png": "[encoded data removed]",
      "text/plain": [
       "<Figure size 422.125x360 with 1 Axes>"
      ]
     },
     "metadata": {
      "needs_background": "light"
     },
     "output_type": "display_data"
    }
   ],
   "source": [
    "sns.catplot(x=\"No_Orders\", y=\"transactionFailed_1\", hue = \"Fraud\",kind=\"bar\", data=cust_df);\n",
    "plt.show()"
   ]
  },
  {
   "cell_type": "code",
   "execution_count": 17,
   "metadata": {
    "colab": {},
    "colab_type": "code",
    "id": "WN2wR6A3AMMN",
    "outputId": "a85de9a1-6e46-4570-d053-069ced9d7379"
   },
   "outputs": [
    {
     "data": {
      "image/png": "[encoded data removed]",
      "text/plain": [
       "<Figure size 432x288 with 1 Axes>"
      ]
     },
     "metadata": {
      "needs_background": "light"
     },
     "output_type": "display_data"
    }
   ],
   "source": [
    "sns.countplot(x = \"No_Orders\", hue = \"Fraud\", data = cust_df)\n",
    "plt.show()"
   ]
  },
  {
   "cell_type": "code",
   "execution_count": 18,
   "metadata": {
    "colab": {},
    "colab_type": "code",
    "id": "EDnh2IFQAMMR",
    "outputId": "ec0dc9ad-75a5-43ef-8c11-da481935f4d1"
   },
   "outputs": [
    {
     "data": {
      "image/png": "[encoded data removed]",
      "text/plain": [
       "<Figure size 432x288 with 1 Axes>"
      ]
     },
     "metadata": {
      "needs_background": "light"
     },
     "output_type": "display_data"
    }
   ],
   "source": [
    "sns.countplot(x = \"No_Payments\", hue = \"Fraud\", data = cust_df)\n",
    "plt.show()"
   ]
  },
  {
   "cell_type": "code",
   "execution_count": 19,
   "metadata": {
    "colab": {},
    "colab_type": "code",
    "id": "Qpjt9do6AMMU",
    "outputId": "67f2a518-f85e-494b-be8b-89c5f3689579"
   },
   "outputs": [
    {
     "data": {
      "image/png": "[encoded data removed]",
      "text/plain": [
       "<Figure size 432x288 with 1 Axes>"
      ]
     },
     "metadata": {
      "needs_background": "light"
     },
     "output_type": "display_data"
    }
   ],
   "source": [
    "sns.countplot(x = \"card\", hue = \"Fraud\", data = cust_df)\n",
    "plt.show()"
   ]
  },
  {
   "cell_type": "code",
   "execution_count": 20,
   "metadata": {
    "colab": {},
    "colab_type": "code",
    "id": "mD5v0G19AMMX",
    "outputId": "797185d1-d351-4843-80fb-ffed5f18893e"
   },
   "outputs": [
    {
     "data": {
      "image/png": "[encoded data removed]",
      "text/plain": [
       "<Figure size 432x288 with 1 Axes>"
      ]
     },
     "metadata": {
      "needs_background": "light"
     },
     "output_type": "display_data"
    }
   ],
   "source": [
    "sns.countplot(x = \"bitcoin\", hue = \"Fraud\", data = cust_df)\n",
    "plt.show()"
   ]
  },
  {
   "cell_type": "code",
   "execution_count": 21,
   "metadata": {
    "colab": {},
    "colab_type": "code",
    "id": "n1iiKqqOAMMb",
    "outputId": "4c15758c-716a-4ab8-9274-abaa7543853c"
   },
   "outputs": [
    {
     "data": {
      "image/png": "[encoded data removed]",
      "text/plain": [
       "<Figure size 432x288 with 1 Axes>"
      ]
     },
     "metadata": {
      "needs_background": "light"
     },
     "output_type": "display_data"
    }
   ],
   "source": [
    "sns.countplot(x = \"apple_pay\", hue = \"Fraud\", data = cust_df)\n",
    "plt.show()"
   ]
  },
  {
   "cell_type": "code",
   "execution_count": 22,
   "metadata": {
    "colab": {},
    "colab_type": "code",
    "id": "d0gFe7N6AMMi",
    "outputId": "3fd73c9f-5058-4ead-cf63-708f52652c1d"
   },
   "outputs": [
    {
     "data": {
      "image/png": "[encoded data removed]",
      "text/plain": [
       "<Figure size 432x288 with 1 Axes>"
      ]
     },
     "metadata": {
      "needs_background": "light"
     },
     "output_type": "display_data"
    }
   ],
   "source": [
    "sns.countplot(x = \"orderState_failed\", hue = \"Fraud\", data = cust_df)\n",
    "plt.show()"
   ]
  },
  {
   "cell_type": "markdown",
   "metadata": {
    "colab_type": "text",
    "id": "BzArv3a0AMMs"
   },
   "source": [
    "# Model Preparation"
   ]
  },
  {
   "cell_type": "code",
   "execution_count": 23,
   "metadata": {
    "colab": {},
    "colab_type": "code",
    "id": "eEB3RiQ8AMMt",
    "outputId": "c36e598c-4f56-42ed-e0d8-ca8bc3bd5c2e"
   },
   "outputs": [
    {
     "data": {
      "text/html": [
       "<div>\n",
       "<style scoped>\n",
       "    .dataframe tbody tr th:only-of-type {\n",
       "        vertical-align: middle;\n",
       "    }\n",
       "\n",
       "    .dataframe tbody tr th {\n",
       "        vertical-align: top;\n",
       "    }\n",
       "\n",
       "    .dataframe thead th {\n",
       "        text-align: right;\n",
       "    }\n",
       "</style>\n",
       "<table border=\"1\" class=\"dataframe\">\n",
       "  <thead>\n",
       "    <tr style=\"text-align: right;\">\n",
       "      <th></th>\n",
       "      <th>No_Orders</th>\n",
       "      <th>No_Payments</th>\n",
       "      <th>card</th>\n",
       "      <th>bitcoin</th>\n",
       "      <th>apple_pay</th>\n",
       "      <th>orderState_pending</th>\n",
       "      <th>orderState_failed</th>\n",
       "      <th>paymentMethodRegistrationFailure_1</th>\n",
       "      <th>transactionFailed_1</th>\n",
       "    </tr>\n",
       "  </thead>\n",
       "  <tbody>\n",
       "    <tr>\n",
       "      <th>0</th>\n",
       "      <td>2</td>\n",
       "      <td>1</td>\n",
       "      <td>2</td>\n",
       "      <td>0</td>\n",
       "      <td>0</td>\n",
       "      <td>1</td>\n",
       "      <td>0</td>\n",
       "      <td>2</td>\n",
       "      <td>0</td>\n",
       "    </tr>\n",
       "    <tr>\n",
       "      <th>1</th>\n",
       "      <td>3</td>\n",
       "      <td>7</td>\n",
       "      <td>0</td>\n",
       "      <td>3</td>\n",
       "      <td>0</td>\n",
       "      <td>0</td>\n",
       "      <td>0</td>\n",
       "      <td>1</td>\n",
       "      <td>1</td>\n",
       "    </tr>\n",
       "    <tr>\n",
       "      <th>2</th>\n",
       "      <td>3</td>\n",
       "      <td>2</td>\n",
       "      <td>5</td>\n",
       "      <td>0</td>\n",
       "      <td>0</td>\n",
       "      <td>0</td>\n",
       "      <td>1</td>\n",
       "      <td>0</td>\n",
       "      <td>2</td>\n",
       "    </tr>\n",
       "    <tr>\n",
       "      <th>3</th>\n",
       "      <td>3</td>\n",
       "      <td>1</td>\n",
       "      <td>3</td>\n",
       "      <td>0</td>\n",
       "      <td>0</td>\n",
       "      <td>0</td>\n",
       "      <td>0</td>\n",
       "      <td>0</td>\n",
       "      <td>0</td>\n",
       "    </tr>\n",
       "    <tr>\n",
       "      <th>4</th>\n",
       "      <td>7</td>\n",
       "      <td>6</td>\n",
       "      <td>4</td>\n",
       "      <td>0</td>\n",
       "      <td>3</td>\n",
       "      <td>0</td>\n",
       "      <td>1</td>\n",
       "      <td>0</td>\n",
       "      <td>2</td>\n",
       "    </tr>\n",
       "    <tr>\n",
       "      <th>...</th>\n",
       "      <td>...</td>\n",
       "      <td>...</td>\n",
       "      <td>...</td>\n",
       "      <td>...</td>\n",
       "      <td>...</td>\n",
       "      <td>...</td>\n",
       "      <td>...</td>\n",
       "      <td>...</td>\n",
       "      <td>...</td>\n",
       "    </tr>\n",
       "    <tr>\n",
       "      <th>163</th>\n",
       "      <td>3</td>\n",
       "      <td>1</td>\n",
       "      <td>3</td>\n",
       "      <td>0</td>\n",
       "      <td>0</td>\n",
       "      <td>0</td>\n",
       "      <td>1</td>\n",
       "      <td>0</td>\n",
       "      <td>0</td>\n",
       "    </tr>\n",
       "    <tr>\n",
       "      <th>164</th>\n",
       "      <td>5</td>\n",
       "      <td>3</td>\n",
       "      <td>6</td>\n",
       "      <td>0</td>\n",
       "      <td>0</td>\n",
       "      <td>0</td>\n",
       "      <td>0</td>\n",
       "      <td>0</td>\n",
       "      <td>1</td>\n",
       "    </tr>\n",
       "    <tr>\n",
       "      <th>165</th>\n",
       "      <td>4</td>\n",
       "      <td>2</td>\n",
       "      <td>24</td>\n",
       "      <td>3</td>\n",
       "      <td>0</td>\n",
       "      <td>0</td>\n",
       "      <td>3</td>\n",
       "      <td>0</td>\n",
       "      <td>6</td>\n",
       "    </tr>\n",
       "    <tr>\n",
       "      <th>166</th>\n",
       "      <td>6</td>\n",
       "      <td>6</td>\n",
       "      <td>6</td>\n",
       "      <td>2</td>\n",
       "      <td>0</td>\n",
       "      <td>0</td>\n",
       "      <td>1</td>\n",
       "      <td>0</td>\n",
       "      <td>2</td>\n",
       "    </tr>\n",
       "    <tr>\n",
       "      <th>167</th>\n",
       "      <td>5</td>\n",
       "      <td>4</td>\n",
       "      <td>4</td>\n",
       "      <td>0</td>\n",
       "      <td>0</td>\n",
       "      <td>0</td>\n",
       "      <td>0</td>\n",
       "      <td>0</td>\n",
       "      <td>2</td>\n",
       "    </tr>\n",
       "  </tbody>\n",
       "</table>\n",
       "<p>168 rows × 9 columns</p>\n",
       "</div>"
      ],
      "text/plain": [
       "     No_Orders  No_Payments  card  bitcoin  apple_pay  orderState_pending  \\\n",
       "0            2            1     2        0          0                   1   \n",
       "1            3            7     0        3          0                   0   \n",
       "2            3            2     5        0          0                   0   \n",
       "3            3            1     3        0          0                   0   \n",
       "4            7            6     4        0          3                   0   \n",
       "..         ...          ...   ...      ...        ...                 ...   \n",
       "163          3            1     3        0          0                   0   \n",
       "164          5            3     6        0          0                   0   \n",
       "165          4            2    24        3          0                   0   \n",
       "166          6            6     6        2          0                   0   \n",
       "167          5            4     4        0          0                   0   \n",
       "\n",
       "     orderState_failed  paymentMethodRegistrationFailure_1  \\\n",
       "0                    0                                   2   \n",
       "1                    0                                   1   \n",
       "2                    1                                   0   \n",
       "3                    0                                   0   \n",
       "4                    1                                   0   \n",
       "..                 ...                                 ...   \n",
       "163                  1                                   0   \n",
       "164                  0                                   0   \n",
       "165                  3                                   0   \n",
       "166                  1                                   0   \n",
       "167                  0                                   0   \n",
       "\n",
       "     transactionFailed_1  \n",
       "0                      0  \n",
       "1                      1  \n",
       "2                      2  \n",
       "3                      0  \n",
       "4                      2  \n",
       "..                   ...  \n",
       "163                    0  \n",
       "164                    1  \n",
       "165                    6  \n",
       "166                    2  \n",
       "167                    2  \n",
       "\n",
       "[168 rows x 9 columns]"
      ]
     },
     "execution_count": 23,
     "metadata": {},
     "output_type": "execute_result"
    }
   ],
   "source": [
    "outcomes = cust_df['Fraud']\n",
    "features_raw = cust_df.drop('Fraud',axis =1)\n",
    "features = pd.get_dummies(features_raw)\n",
    "features"
   ]
  },
  {
   "cell_type": "markdown",
   "metadata": {
    "colab_type": "text",
    "id": "cxENgNNoAMMw"
   },
   "source": [
    "# Training and Testing Model Using Decision Trees"
   ]
  },
  {
   "cell_type": "code",
   "execution_count": 24,
   "metadata": {
    "colab": {},
    "colab_type": "code",
    "id": "_9Q-GOgmAMMx"
   },
   "outputs": [],
   "source": [
    "from sklearn.model_selection import train_test_split\n",
    "X_train, X_test, y_train, y_test = train_test_split(features, outcomes, test_size=0.3, random_state=42)"
   ]
  },
  {
   "cell_type": "code",
   "execution_count": 25,
   "metadata": {
    "colab": {},
    "colab_type": "code",
    "id": "tqx5l9hwAMMz",
    "outputId": "5cad353f-9027-48fd-9c13-7a657355085a"
   },
   "outputs": [
    {
     "data": {
      "text/plain": [
       "DecisionTreeClassifier(ccp_alpha=0.0, class_weight=None, criterion='gini',\n",
       "                       max_depth=None, max_features=None, max_leaf_nodes=None,\n",
       "                       min_impurity_decrease=0.0, min_impurity_split=None,\n",
       "                       min_samples_leaf=1, min_samples_split=2,\n",
       "                       min_weight_fraction_leaf=0.0, presort='deprecated',\n",
       "                       random_state=None, splitter='best')"
      ]
     },
     "execution_count": 25,
     "metadata": {},
     "output_type": "execute_result"
    }
   ],
   "source": [
    "from sklearn.tree import DecisionTreeClassifier\n",
    "\n",
    "model = DecisionTreeClassifier()\n",
    "model.fit(X_train, y_train)"
   ]
  },
  {
   "cell_type": "code",
   "execution_count": 26,
   "metadata": {
    "colab": {},
    "colab_type": "code",
    "id": "17LiMatkAMM3",
    "outputId": "8c9ecef2-1df4-4e42-db90-ba5d93d3f5ff"
   },
   "outputs": [
    {
     "name": "stdout",
     "output_type": "stream",
     "text": [
      "The training accuracy is 0.9743589743589743\n",
      "The test accuracy is 0.7058823529411765\n"
     ]
    }
   ],
   "source": [
    "y_train_pred = model.predict(X_train)\n",
    "y_test_pred = model.predict(X_test)\n",
    "\n",
    "from sklearn.metrics import accuracy_score\n",
    "train_accuracy = accuracy_score(y_train, y_train_pred)\n",
    "test_accuracy = accuracy_score(y_test, y_test_pred)\n",
    "print('The training accuracy is', train_accuracy)\n",
    "print('The test accuracy is', test_accuracy)"
   ]
  },
  {
   "cell_type": "code",
   "execution_count": 27,
   "metadata": {
    "colab": {},
    "colab_type": "code",
    "id": "mweCc_fAAMM8",
    "outputId": "21ac5708-0675-4de0-e41f-38fc7bae0944"
   },
   "outputs": [
    {
     "name": "stdout",
     "output_type": "stream",
     "text": [
      "Train confusion matrix :  [[79  0]\n",
      " [ 3 35]]\n",
      "Train Accuracy (%) :  97.43589743589743\n",
      "Train Report :                precision    recall  f1-score   support\n",
      "\n",
      "       False       0.96      1.00      0.98        79\n",
      "        True       1.00      0.92      0.96        38\n",
      "\n",
      "    accuracy                           0.97       117\n",
      "   macro avg       0.98      0.96      0.97       117\n",
      "weighted avg       0.98      0.97      0.97       117\n",
      "\n",
      "Train Log Loss :  0.8856096511515568\n",
      "\n",
      "\n",
      "\n",
      "\n",
      "Test confusion matrix :  [[21  7]\n",
      " [ 8 15]]\n",
      "Test Accuracy (%) :  70.58823529411765\n",
      "Test Report :                precision    recall  f1-score   support\n",
      "\n",
      "       False       0.72      0.75      0.74        28\n",
      "        True       0.68      0.65      0.67        23\n",
      "\n",
      "    accuracy                           0.71        51\n",
      "   macro avg       0.70      0.70      0.70        51\n",
      "weighted avg       0.71      0.71      0.71        51\n",
      "\n",
      "Test Log Loss :  10.158573394228856\n"
     ]
    }
   ],
   "source": [
    "from sklearn.metrics import confusion_matrix\n",
    "from sklearn.metrics import accuracy_score\n",
    "from sklearn.metrics import classification_report\n",
    "from sklearn.metrics import log_loss\n",
    "\n",
    "train_results = confusion_matrix(y_train, y_train_pred)\n",
    "print(\"Train confusion matrix : \",train_results)\n",
    "train_accuracy = accuracy_score(y_train, y_train_pred)\n",
    "print(\"Train Accuracy (%) : \",train_accuracy*100)\n",
    "train_report = classification_report(y_train, y_train_pred) \n",
    "print(\"Train Report : \",train_report)\n",
    "logloss = log_loss(y_train, y_train_pred, eps = 1e-15, normalize = True, sample_weight = None, labels = None) \n",
    "print(\"Train Log Loss : \",logloss)\n",
    "\n",
    "print(\"\\n\\n\\n\")\n",
    "\n",
    "\n",
    "\n",
    "test_results = confusion_matrix(y_test, y_test_pred)\n",
    "print(\"Test confusion matrix : \",test_results)\n",
    "test_accuracy = accuracy_score(y_test, y_test_pred)\n",
    "print(\"Test Accuracy (%) : \",test_accuracy*100)\n",
    "test_report = classification_report(y_test, y_test_pred) \n",
    "print(\"Test Report : \",test_report)\n",
    "logloss = log_loss(y_test, y_test_pred, eps = 1e-15, normalize = True, sample_weight = None, labels = None) \n",
    "print(\"Test Log Loss : \",logloss)\n"
   ]
  },
  {
   "cell_type": "markdown",
   "metadata": {
    "colab_type": "text",
    "id": "rU95XZ6yAMM_"
   },
   "source": [
    "# Hyper Parameters Tuning using GridSearchCV"
   ]
  },
  {
   "cell_type": "code",
   "execution_count": 28,
   "metadata": {
    "colab": {},
    "colab_type": "code",
    "id": "ca3-8sCcAMNB",
    "outputId": "587136ab-8707-453a-c110-2d5effd5769c"
   },
   "outputs": [
    {
     "name": "stdout",
     "output_type": "stream",
     "text": [
      "DecisionTreeClassifier(ccp_alpha=0.0, class_weight=None, criterion='gini',\n",
      "                       max_depth=4, max_features=None, max_leaf_nodes=None,\n",
      "                       min_impurity_decrease=0.0, min_impurity_split=None,\n",
      "                       min_samples_leaf=10, min_samples_split=4,\n",
      "                       min_weight_fraction_leaf=0.0, presort='deprecated',\n",
      "                       random_state=23, splitter='best')\n",
      "The training accuracy is 0.7777777777777778\n",
      "The test accuracy is 0.7254901960784313\n"
     ]
    }
   ],
   "source": [
    "from sklearn.tree import DecisionTreeClassifier\n",
    "from sklearn.metrics import accuracy_score, make_scorer\n",
    "from sklearn.model_selection import GridSearchCV\n",
    "\n",
    "clf = DecisionTreeClassifier(random_state = 23)\n",
    "parameters = {'max_depth': np.arange(3, 21), 'min_samples_leaf': np.arange(2, 11), 'min_samples_split': np.arange(4, 11)}\n",
    "scorer = make_scorer(accuracy_score)\n",
    "grid = GridSearchCV(estimator = clf, param_grid = parameters, scoring = scorer)\n",
    "\n",
    "\n",
    "# TODO: Train the model\n",
    "grid_fit = grid.fit(X_train, y_train)\n",
    "best_clf = grid_fit.best_estimator_\n",
    "print(best_clf)\n",
    "\n",
    "# TODO: Make predictions\n",
    "y_train_pred = best_clf.predict(X_train)\n",
    "y_test_pred = best_clf.predict(X_test)\n",
    "\n",
    "# TODO: Calculate the accuracy\n",
    "train_accuracy = accuracy_score(y_train, y_train_pred)\n",
    "test_accuracy = accuracy_score(y_test, y_test_pred)\n",
    "print('The training accuracy is', train_accuracy)\n",
    "print('The test accuracy is', test_accuracy)\n"
   ]
  },
  {
   "cell_type": "code",
   "execution_count": 29,
   "metadata": {
    "colab": {},
    "colab_type": "code",
    "id": "nDAeN6KcAMNE",
    "outputId": "8f7b69e3-be90-4c26-dace-bad7e0153720"
   },
   "outputs": [
    {
     "name": "stdout",
     "output_type": "stream",
     "text": [
      "Train confusion matrix :  [[73  6]\n",
      " [20 18]]\n",
      "Train Accuracy (%) :  77.77777777777779\n",
      "Train Report :                precision    recall  f1-score   support\n",
      "\n",
      "       False       0.78      0.92      0.85        79\n",
      "        True       0.75      0.47      0.58        38\n",
      "\n",
      "    accuracy                           0.78       117\n",
      "   macro avg       0.77      0.70      0.71       117\n",
      "weighted avg       0.77      0.78      0.76       117\n",
      "\n",
      "Train Log Loss :  7.675324648309905\n",
      "\n",
      "\n",
      "\n",
      "\n",
      "Test confusion matrix :  [[25  3]\n",
      " [11 12]]\n",
      "Test Accuracy (%) :  72.54901960784314\n",
      "Test Report :                precision    recall  f1-score   support\n",
      "\n",
      "       False       0.69      0.89      0.78        28\n",
      "        True       0.80      0.52      0.63        23\n",
      "\n",
      "    accuracy                           0.73        51\n",
      "   macro avg       0.75      0.71      0.71        51\n",
      "weighted avg       0.74      0.73      0.71        51\n",
      "\n",
      "Test Log Loss :  9.481279771000786\n"
     ]
    }
   ],
   "source": [
    "from sklearn.metrics import confusion_matrix\n",
    "from sklearn.metrics import accuracy_score\n",
    "from sklearn.metrics import classification_report\n",
    "from sklearn.metrics import log_loss\n",
    "\n",
    "train_results = confusion_matrix(y_train, y_train_pred)\n",
    "print(\"Train confusion matrix : \",train_results)\n",
    "train_accuracy = accuracy_score(y_train, y_train_pred)\n",
    "print(\"Train Accuracy (%) : \",train_accuracy*100)\n",
    "train_report = classification_report(y_train, y_train_pred) \n",
    "print(\"Train Report : \",train_report)\n",
    "logloss = log_loss(y_train, y_train_pred, eps = 1e-15, normalize = True, sample_weight = None, labels = None) \n",
    "print(\"Train Log Loss : \",logloss)\n",
    "\n",
    "print(\"\\n\\n\\n\")\n",
    "\n",
    "\n",
    "\n",
    "test_results = confusion_matrix(y_test, y_test_pred)\n",
    "print(\"Test confusion matrix : \",test_results)\n",
    "test_accuracy = accuracy_score(y_test, y_test_pred)\n",
    "print(\"Test Accuracy (%) : \",test_accuracy*100)\n",
    "test_report = classification_report(y_test, y_test_pred) \n",
    "print(\"Test Report : \",test_report)\n",
    "logloss = log_loss(y_test, y_test_pred, eps = 1e-15, normalize = True, sample_weight = None, labels = None) \n",
    "print(\"Test Log Loss : \",logloss)\n"
   ]
  },
  {
   "cell_type": "code",
   "execution_count": 32,
   "metadata": {
    "colab": {},
    "colab_type": "code",
    "id": "zl6xL59OAMNK",
    "outputId": "84e4420d-9a85-4b25-cbb4-9066ef474d6a"
   },
   "outputs": [
    {
     "name": "stdout",
     "output_type": "stream",
     "text": [
      "Feature ranking:\n",
      "1. feature 1 (0.317385)\n",
      "2. feature 8 (0.298379)\n",
      "3. feature 0 (0.226658)\n",
      "4. feature 2 (0.130606)\n",
      "5. feature 6 (0.026971)\n",
      "6. feature 7 (0.000000)\n",
      "7. feature 5 (0.000000)\n",
      "8. feature 4 (0.000000)\n",
      "9. feature 3 (0.000000)\n"
     ]
    },
    {
     "data": {
      "image/png": "[encoded data removed]",
      "text/plain": [
       "<Figure size 432x288 with 1 Axes>"
      ]
     },
     "metadata": {
      "needs_background": "light"
     },
     "output_type": "display_data"
    }
   ],
   "source": [
    "from sklearn.tree import DecisionTreeClassifier\n",
    "clf = DecisionTreeClassifier(criterion='entropy', max_features=3, min_samples_split=3,\n",
    "                             max_depth=None, min_samples_leaf=10)\n",
    "\n",
    "\n",
    "forest=clf.fit(X_train, y_train)\n",
    "\n",
    "#label for x-axis\n",
    "features_name = np.array(X_train.columns.values)\n",
    "\n",
    "\n",
    "\n",
    "importances = clf.feature_importances_\n",
    "std = np.std([clf.feature_importances_ for tree in clf.tree_.feature],   axis=0)\n",
    "indices = np.argsort(importances)[::-1]\n",
    "# Print the feature ranking\n",
    "print(\"Feature ranking:\")\n",
    "\n",
    "for f in range(X_train.shape[1]):\n",
    "    print(\"%d. feature %d (%f)\" % (f + 1, indices[f], importances[indices[f]]))\n",
    "\n",
    "# Plot the feature importances \n",
    "plt.figure()\n",
    "plt.title(\"Feature importances\\n\",size=20)\n",
    "plt.bar(range(X_train.shape[1]), importances[indices],yerr=std[indices], color='r' , align=\"center\")\n",
    "plt.xticks(range(X_train.shape[1]), features_name[indices],rotation=20,fontsize = 7)\n",
    "plt.xlim([-1, X_train.shape[1]])\n",
    "plt.show()\n"
   ]
  },
  {
   "cell_type": "markdown",
   "metadata": {
    "colab_type": "raw",
    "id": "kLKK0ap5AMNP"
   },
   "source": [
    "According to me the following features are significant for predicting Fraud:\n",
    "\n",
    "A. From Customer_DF file:\n",
    "    1. No_Orders \n",
    "    2. No_Payments\n",
    "    3. Fraud\n",
    "\n",
    "B. From cust_trasaction_details file:\n",
    "    1. paymentMethodType\n",
    "    2. orderState\n",
    "    3. paymentMethodRegistrationFailure\n",
    "    4. transactionFailed\n",
    "    \n",
    "The relations between above features are shown above in the Data Visualization section which clearly signifies that the features have strong relations between them and with the 'Fraud' column\n",
    "\n",
    "Apart from the above features other features dont show any strong relationships and therefore according to me are insignificant."
   ]
  },
  {
   "cell_type": "code",
   "execution_count": null,
   "metadata": {},
   "outputs": [],
   "source": []
  }
 ],
 "metadata": {
  "colab": {
   "name": "ECommerce_Fraud_Analysis_DEBANJAN_CHOWDHURY.ipynb",
   "provenance": []
  },
  "kernelspec": {
   "display_name": "Python 3",
   "language": "python",
   "name": "python3"
  },
  "language_info": {
   "codemirror_mode": {
    "name": "ipython",
    "version": 3
   },
   "file_extension": ".py",
   "mimetype": "text/x-python",
   "name": "python",
   "nbconvert_exporter": "python",
   "pygments_lexer": "ipython3",
   "version": "3.7.6"
  }
 },
 "nbformat": 4,
 "nbformat_minor": 1
}
